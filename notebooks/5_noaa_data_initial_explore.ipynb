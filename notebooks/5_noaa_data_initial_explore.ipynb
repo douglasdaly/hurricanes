{
  "cells": [
    {
      "cell_type": "markdown",
      "source": [
        "# NOAA RATPAC-B Data\n",
        "\n",
        "-----\n",
        "\n",
        "## Initial Data Exploration\n",
        "\nInitial data exploration for the NOAA RATPAC-B temperature data."
      ],
      "metadata": {
        "collapsed": false,
        "outputHidden": false,
        "inputHidden": false
      }
    },
    {
      "cell_type": "code",
      "source": [
        "# Imports\n",
        "import os\n",
        "import pickle\n",
        "import numpy as np\n",
        "import pandas as pd\n",
        "import calendar\n",
        "from datetime import datetime, timedelta\n",
        "import matplotlib.pyplot as plt\n",
        "\nimport seaborn as sns"
      ],
      "outputs": [],
      "execution_count": 1,
      "metadata": {}
    },
    {
      "cell_type": "code",
      "source": [
        "# Load data\n",
        "proc_data_dir = '../data/processed'\n",
        "\n",
        "with open(os.path.join(proc_data_dir, 'ratpac_stations.pkl'), 'rb') as fin:\n",
        "    station_data = pickle.load(fin)\n",
        "\n",
        "with open(os.path.join(proc_data_dir, 'ratpac_b.pkl'), 'rb') as fin:\n",
        "    ratpac_data = pickle.load(fin)\n",
        "\n",
        "# - Merge to add location data and dates\n",
        "all_data = ratpac_data.join(station_data.loc[:, ['LAT', 'LON']], on='station_number')\n",
        "\n",
        "dt_data = np.empty((all_data.shape[0], 1), dtype=datetime)\n",
        "for row_id, row_vals in enumerate(all_data.values):\n",
        "    dt_data[row_id] = datetime(row_vals[1], row_vals[2], \n",
        "                               calendar.monthrange(row_vals[1], row_vals[2])[1])\n",
        "all_data['Date'] = dt_data\n",
        "\nall_data.drop(['year', 'month', 'station_number', 'station_id'], axis=1, inplace=True)"
      ],
      "outputs": [],
      "execution_count": 2,
      "metadata": {
        "collapsed": false,
        "outputHidden": false,
        "inputHidden": false
      }
    }
  ],
  "metadata": {
    "kernel_info": {
      "name": "hurricanes-env"
    },
    "language_info": {
      "name": "python",
      "version": "3.6.6",
      "mimetype": "text/x-python",
      "codemirror_mode": {
        "name": "ipython",
        "version": 3
      },
      "pygments_lexer": "ipython3",
      "nbconvert_exporter": "python",
      "file_extension": ".py"
    },
    "kernelspec": {
      "name": "hurricanes-env",
      "language": "python",
      "display_name": "Hurricane Data Env"
    },
    "nteract": {
      "version": "0.12.3"
    }
  },
  "nbformat": 4,
  "nbformat_minor": 4
}