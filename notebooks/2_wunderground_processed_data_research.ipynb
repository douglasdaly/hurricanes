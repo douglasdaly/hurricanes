{
  "cells": [
    {
      "cell_type": "markdown",
      "source": [
        "# Weather Underground Hurricane Data\n",
        "\n",
        "-----\n",
        "\n",
        "## Processed Data Research\n",
        "\nA notebook for researching the processed Weather Underground data from the ```src/process_data.py``` script."
      ],
      "metadata": {
        "collapsed": false,
        "outputHidden": false,
        "inputHidden": false
      }
    },
    {
      "cell_type": "code",
      "source": [
        "# Imports\n",
        "import os\n",
        "import pickle\n",
        "import numpy as np\n",
        "import pandas as pd\n",
        "from datetime import datetime\n",
        "import matplotlib.pyplot as plt"
      ],
      "outputs": [],
      "execution_count": null,
      "metadata": {
        "collapsed": false,
        "outputHidden": false,
        "inputHidden": false
      }
    },
    {
      "cell_type": "code",
      "source": [
        "# Variables\n",
        "processed_dir = '../data/processed/'\n",
        "\n",
        "# - Load Data\n",
        "with open(os.path.join(processed_dir, 'region_data.pkl'), 'rb') as fin:\n",
        "    region_df = pickle.load(fin)\n",
        "\n",
        "with open(os.path.join(processed_dir, 'region_yearly_data.pkl'), 'rb') as fin:\n",
        "    region_yearly_df = pickle.load(fin)\n",
        "\n",
        "with open(os.path.join(processed_dir, 'storm_track_data.pkl'), 'rb') as fin:\n",
        "    storm_track_dict = pickle.load(fin)\n"
      ],
      "outputs": [],
      "execution_count": null,
      "metadata": {
        "collapsed": false,
        "outputHidden": false,
        "inputHidden": false
      }
    },
    {
      "cell_type": "code",
      "source": [
        "# - Plot data by region\n",
        "regions = ['North Atlantic', 'East Pacific', 'Western Pacific', 'Indian Ocean']\n",
        "\n",
        "stats = ['Storms', 'Hurricanes', 'Deaths', 'Damage']\n",
        "colors = ['#2d758c', '#cf4917', '#f9ac3d', '#758c33']\n",
        "\n",
        "fig, axs = plt.subplots(nrows=4, ncols=4, sharex=True, figsize=(12, 8))\n",
        "\n",
        "i_col = 0\n",
        "for region in regions:\n",
        "    t_reg_df = region_df.loc[:, region]\n",
        "    \n",
        "    i_row = 0\n",
        "    for statistic in stats:\n",
        "        ax = axs[i_row][i_col]\n",
        "        clr = colors[i_row]\n",
        "        t_reg_df.loc[:, statistic].plot(ax=ax, color=clr)\n",
        "        ax.grid(linestyle='--', color='grey', alpha=0.5)\n",
        "        \n",
        "        ax.set_yticklabels([])\n",
        "        if i_col == 0:\n",
        "            ax.set_ylabel(statistic)\n",
        "    \n",
        "        if i_row == 0:\n",
        "            ax.set_title(region)\n",
        "    \n",
        "        i_row += 1\n",
        "    \n",
        "    i_col += 1\n",
        "\n",
        "fig.savefig('../media/region_data_by_region_stat.png')\n",
        "plt.show();"
      ],
      "outputs": [],
      "execution_count": null,
      "metadata": {
        "collapsed": false,
        "outputHidden": false,
        "inputHidden": false,
        "outputExpanded": true
      }
    },
    {
      "cell_type": "code",
      "source": [
        "# - Get common starting date\n",
        "plt_start = region_df.first_valid_index()\n",
        "for region in set(region_df.columns.get_level_values('Region')):\n",
        "    t_df = region_df.loc[:, pd.IndexSlice[region, 'Hurricanes']]\n",
        "    t_df[t_df == 0.] = np.nan\n",
        "    t_start_dt = t_df.first_valid_index()\n",
        "    \n",
        "    if t_start_dt > plt_start:\n",
        "        plt_start = t_start_dt\n",
        "\nprint(\"Common starting date: {}\".format(plt_start))"
      ],
      "outputs": [],
      "execution_count": null,
      "metadata": {
        "collapsed": false,
        "outputHidden": false,
        "inputHidden": false
      }
    },
    {
      "cell_type": "code",
      "source": [
        "# - Total occurences over time\n",
        "agg_data = region_df.groupby(level='Statistic', axis=1).sum().loc[plt_start:]\n",
        "pct_hurricanes = agg_data.loc[:, 'Hurricanes'] / agg_data.loc[:, 'Storms']\n",
        "\n",
        "avg_counts = agg_data.loc[:, ['Hurricanes', 'Storms']].mean().values\n",
        "avg_pct = pct_hurricanes.mean()\n",
        "\n",
        "# - Plot\n",
        "plot_percentages = False\n",
        "\n",
        "fig, ax = plt.subplots(figsize=(12, 8))\n",
        "\n",
        "agg_data.loc[:, 'Storms'].plot.area(ax=ax, alpha=1, color='#41a8c9', zorder=1)\n",
        "agg_data.loc[:, 'Hurricanes'].plot.area(ax=ax, alpha=1, color='#ec8055', zorder=2)\n",
        "\n",
        "ax.axhline(avg_counts[1], label='Storms Mean ({:.0f})'.format(avg_counts[1]),\n",
        "           color='#2d758c', alpha=0.9, linestyle='--', linewidth=2, zorder=3)\n",
        "ax.axhline(avg_counts[0], label='Hurricanes Mean ({:.0f})'.format(avg_counts[0]),\n",
        "           color='#cf4917', alpha=0.9, linestyle='--', linewidth=2, zorder=3)\n",
        "\n",
        "ax.set_title('Storms and Hurricanes over Time (All Regions)')\n",
        "ax.set_ylabel('# of Occurrences');\n",
        "ax.set_xlabel('Date')\n",
        "\n",
        "lines, labels = ax.get_legend_handles_labels()\n",
        "if plot_percentages:\n",
        "    ax2 = (pct_hurricanes * 100.).plot(ax=ax, secondary_y=True, zorder=4, linestyle='-',\n",
        "                                       color='#d0b285', linewidth=2.5, \n",
        "                                       label='Percent Hurricanes')\n",
        "    ax2.axhline(avg_pct*100., label='Percent Mean ({:.1f}%)'.format(100.*avg_pct),\n",
        "                color='#a2783c', alpha=0.9, linestyle='--', linewidth=2, zorder=5)\n",
        "\n",
        "    ax2.set_ylim((0, 100))\n",
        "    ax2.set_ylabel('Percent (%)')\n",
        "\n",
        "    \n",
        "    lines_2, labels_2 = ax2.get_legend_handles_labels()\n",
        "    ax.legend(lines[::-1]+lines_2, labels[::-1]+labels_2, loc='upper right')\n",
        "else:\n",
        "    ax.legend(lines[::-1], labels[::-1], loc='upper right')\n",
        "    \n",
        "\n",
        "fig.savefig('../media/storms_hurricanes_all_regions.png')\n",
        "plt.show();"
      ],
      "outputs": [],
      "execution_count": null,
      "metadata": {
        "collapsed": false,
        "outputHidden": false,
        "inputHidden": false
      }
    },
    {
      "cell_type": "code",
      "source": [
        "# - Get avg max winds data\n",
        "start_dates = region_yearly_df.loc[:, ['Start Date']].set_index('Start Date').index\n",
        "cut_region_yearly = region_yearly_df.loc[start_dates.year >= plt_start, :]\n",
        "cut_start_dates = cut_region_yearly.loc[:, ['Start Date']].set_index('Start Date').index\n",
        "\n",
        "avg_max_wind_speed = cut_region_yearly.loc[:, 'Max Winds'].groupby(cut_start_dates.year).mean()\n",
        "\n",
        "# - Plot\n",
        "fig, ax = plt.subplots(figsize=(12, 8))\n",
        "\n",
        "avg_max_wind_speed.plot(ax=ax, color='#2d758c')\n",
        "ax.grid(linestyle='--', color='grey', alpha=0.5)\n",
        "\n",
        "ax.set_title('Average Max Wind Speed over Time')\n",
        "ax.set_ylabel('Wind Speed (mph)')\n",
        "ax.set_xlabel('Date')\n",
        "\n",
        "fig.savefig('../media/avg_max_wind_speed_by_year.png')\n",
        "plt.show();"
      ],
      "outputs": [],
      "execution_count": null,
      "metadata": {
        "collapsed": false,
        "outputHidden": false,
        "inputHidden": false
      }
    },
    {
      "cell_type": "code",
      "source": [
        "# - Avg Max Wind Speed by Region\n",
        "reg_avgmaxwind = cut_region_yearly.groupby(['Region', cut_start_dates.year], axis=0) \\\n",
        "                                  .mean().loc[:, 'Max Winds'].unstack('Region')\n",
        "reg_counts = cut_region_yearly.groupby(['Region', cut_start_dates.year], axis=0).count() \\\n",
        "                              .loc[:, 'Max Winds'].unstack('Region')\n",
        "\n",
        "# - Plot\n",
        "fig, axs = plt.subplots(nrows=4, ncols=2, sharex=False, figsize=(12, 12))\n",
        "\n",
        "colors = ['#2d758c', '#cf4917', '#f9ac3d', '#758c33']\n",
        "i = 0\n",
        "for reg in reg_avgmaxwind.columns:\n",
        "    ax = axs[i][0]\n",
        "    reg_avgmaxwind.loc[:, reg].plot(ax=ax, label=reg, color=colors[i])\n",
        "    ax.set_ylim((0, 120))\n",
        "    ax.set_xlim((1960, 2016))\n",
        "    ax.grid(linestyle='--', color='grey', alpha=0.5)\n",
        "    ax.set_ylabel(reg)\n",
        "    ax.set_xlabel('')\n",
        "        \n",
        "    ax = axs[i][1]\n",
        "    reg_counts.loc[:, reg].plot(ax=ax, kind='bar', label='Count', color=colors[i])\n",
        "    ax.xaxis.set_major_locator(plt.MultipleLocator(10))\n",
        "    ax.xaxis.set_ticklabels([plt_start] + list(range(plt_start, 2015, 10)), rotation=0)\n",
        "    ax.set_xlabel('')\n",
        "    \n",
        "    i += 1\n",
        "\n",
        "axs[0][0].set_title('Avg Max Wind Speed by Year (mph)')\n",
        "axs[0][1].set_title('Data Count by Year')\n",
        "axs[-1][0].set_xlabel('Date')\n",
        "axs[-1][1].set_xlabel('Date')\n",
        "\n",
        "fig.savefig('../media/avg_max_winds_by_region.png')\n",
        "plt.show();"
      ],
      "outputs": [],
      "execution_count": null,
      "metadata": {
        "collapsed": false,
        "outputHidden": false,
        "inputHidden": false,
        "outputExpanded": true
      }
    }
  ],
  "metadata": {
    "kernel_info": {
      "name": "hurricanes-env"
    },
    "language_info": {
      "name": "python",
      "version": "3.6.6",
      "mimetype": "text/x-python",
      "codemirror_mode": {
        "name": "ipython",
        "version": 3
      },
      "pygments_lexer": "ipython3",
      "nbconvert_exporter": "python",
      "file_extension": ".py"
    },
    "kernelspec": {
      "name": "hurricanes-env",
      "language": "python",
      "display_name": "Hurricane Data Env"
    },
    "nteract": {
      "version": "0.12.3"
    }
  },
  "nbformat": 4,
  "nbformat_minor": 4
}