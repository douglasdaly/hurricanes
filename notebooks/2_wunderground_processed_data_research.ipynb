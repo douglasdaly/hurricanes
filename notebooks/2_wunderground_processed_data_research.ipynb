{
  "cells": [
    {
      "cell_type": "markdown",
      "source": [
        "# Weather Underground Hurricane Data\n",
        "\n",
        "-----\n",
        "\n",
        "## Processed Data Research\n",
        "\nA notebook for researching the processed Weather Underground data from the ```src/process_data.py``` script."
      ],
      "metadata": {
        "collapsed": false,
        "outputHidden": false,
        "inputHidden": false
      }
    },
    {
      "cell_type": "code",
      "source": [
        "# Imports\n",
        "import os\n",
        "import pickle\n",
        "import numpy as np\n",
        "import pandas as pd\n",
        "import matplotlib.pyplot as plt"
      ],
      "outputs": [],
      "execution_count": null,
      "metadata": {
        "collapsed": false,
        "outputHidden": false,
        "inputHidden": false
      }
    },
    {
      "cell_type": "code",
      "source": [
        "# Variables\n",
        "processed_dir = '../data/processed/'\n",
        "\n",
        "# - Load Data\n",
        "with open(os.path.join(processed_dir, 'region_data.pkl'), 'rb') as fin:\n",
        "    region_df = pickle.load(fin)\n",
        "\n",
        "with open(os.path.join(processed_dir, 'region_yearly_data.pkl'), 'rb') as fin:\n",
        "    region_yearly_df = pickle.load(fin)\n",
        "\n",
        "with open(os.path.join(processed_dir, 'storm_track_data.pkl'), 'rb') as fin:\n",
        "    storm_track_dict = pickle.load(fin)\n"
      ],
      "outputs": [],
      "execution_count": null,
      "metadata": {
        "collapsed": false,
        "outputHidden": false,
        "inputHidden": false
      }
    },
    {
      "cell_type": "code",
      "source": [
        "# - Plot data by region\n",
        "regions = ['North Atlantic', 'East Pacific', 'Western Pacific', 'Indian Ocean']\n",
        "\n",
        "stats = ['Storms', 'Hurricanes', 'Deaths', 'Damage']\n",
        "colors = ['orange', 'b', 'r', 'g']\n",
        "\n",
        "fig, axs = plt.subplots(nrows=4, ncols=4, sharex=True, figsize=(12, 8))\n",
        "\n",
        "i_col = 0\n",
        "for region in regions:\n",
        "    t_reg_df = region_df.loc[:, region]\n",
        "    \n",
        "    i_row = 0\n",
        "    for statistic in stats:\n",
        "        ax = axs[i_row][i_col]\n",
        "        clr = colors[i_row]\n",
        "        t_reg_df.loc[:, statistic].plot(ax=ax, color=clr)\n",
        "        \n",
        "        ax.set_yticklabels([])\n",
        "        if i_col == 0:\n",
        "            ax.set_ylabel(statistic)\n",
        "    \n",
        "        if i_row == 0:\n",
        "            ax.set_title(region)\n",
        "    \n",
        "        i_row += 1\n",
        "    \n",
        "    i_col += 1\n",
        "\n",
        "fig.savefig('../media/region_data_by_region_stat.png')\n",
        "plt.show();"
      ],
      "outputs": [],
      "execution_count": null,
      "metadata": {
        "collapsed": false,
        "outputHidden": false,
        "inputHidden": false,
        "outputExpanded": true
      }
    }
  ],
  "metadata": {
    "kernel_info": {
      "name": "hurricanes-env"
    },
    "language_info": {
      "name": "python",
      "version": "3.6.6",
      "mimetype": "text/x-python",
      "codemirror_mode": {
        "name": "ipython",
        "version": 3
      },
      "pygments_lexer": "ipython3",
      "nbconvert_exporter": "python",
      "file_extension": ".py"
    },
    "kernelspec": {
      "name": "hurricanes-env",
      "language": "python",
      "display_name": "Hurricane Data Env"
    },
    "nteract": {
      "version": "0.12.3"
    }
  },
  "nbformat": 4,
  "nbformat_minor": 4
}