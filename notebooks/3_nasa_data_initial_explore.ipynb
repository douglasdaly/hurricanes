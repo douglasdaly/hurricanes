{
  "cells": [
    {
      "cell_type": "markdown",
      "source": [
        "# NASA Data Exploration\n"
      ],
      "metadata": {
        "collapsed": false,
        "outputHidden": false,
        "inputHidden": false
      }
    },
    {
      "cell_type": "code",
      "source": [
        "# Imports\n",
        "import os\n",
        "import numpy as np\n",
        "import pandas as pd\n",
        "from datetime import datetime\n",
        "import matplotlib.pyplot as plt"
      ],
      "outputs": [],
      "execution_count": null,
      "metadata": {
        "collapsed": false,
        "outputHidden": false,
        "inputHidden": false
      }
    },
    {
      "cell_type": "code",
      "source": [
        "# Load Data\n",
        "raw_data_dir = '../data/raw/'\n",
        "processed_data_dir = '../data/processed/'\n",
        "\n",
        "# - Raw Data Files\n",
        "nasa_temp_file = os.path.join(raw_data_dir, 'nasa_temperature_anomaly.txt')\n",
        "nasa_sea_file = os.path.join(raw_data_dir, 'nasa_sea_level.txt')\n",
        "nasa_co2_file = os.path.join(raw_data_dir, 'nasa_carbon_dioxide_levels.txt')\n"
      ],
      "outputs": [],
      "execution_count": null,
      "metadata": {
        "collapsed": false,
        "outputHidden": false,
        "inputHidden": false
      }
    },
    {
      "cell_type": "code",
      "source": [
        "# - Process temperature data\n",
        "temp_data = pd.read_csv(nasa_temp_file, sep='\\t', header=None)\n",
        "temp_data.columns = ['Year', 'Annual Mean', 'Lowness Smoothing']\n",
        "temp_data.set_index('Year', inplace=True)\n",
        "\n",
        "fig, ax = plt.subplots(figsize=(12, 8))\n",
        "\n",
        "temp_data.plot(ax=ax)\n",
        "ax.grid(True, linestyle='--', color='grey', alpha=0.6)\n",
        "\n",
        "ax.set_title('Global Temperature Anomaly Data')\n",
        "ax.set_ylabel('Temperature Anomaly ($\\degree$C)')\n",
        "ax.set_xlabel('Date')\n",
        "ax.legend()\n",
        "\nplt.show();"
      ],
      "outputs": [],
      "execution_count": null,
      "metadata": {
        "collapsed": false,
        "outputHidden": false,
        "inputHidden": false
      }
    },
    {
      "cell_type": "code",
      "source": [
        "# - Process Sea-level File\n",
        "# -- Figure out header rows\n",
        "with open(nasa_sea_file, 'r') as fin:\n",
        "    all_lines = fin.readlines()\n",
        "    \n",
        "header_lines = np.array([1 for x in all_lines if x.startswith('HDR')]).sum()\n",
        "sea_level_data = pd.read_csv(nasa_sea_file, delim_whitespace=True, \n",
        "                             skiprows=header_lines-1).reset_index()\n",
        "\n",
        "sea_level_data.columns = ['Altimeter Type', 'File Cycle', 'Year Fraction', \n",
        "                          'N Observations', 'N Weighted Observations', 'GMSL',\n",
        "                          'Std GMSL', 'GMSL (smoothed)', 'GMSL (GIA Applied)',\n",
        "                          'Std GMSL (GIA Applied)', 'GMSL (GIA, smoothed)',\n",
        "                          'GMSL (GIA, smoothed, filtered)']\n",
        "sea_level_data.set_index('Year Fraction', inplace=True)\n",
        "\n",
        "fig, ax = plt.subplots(figsize=(12, 8))\n",
        "\n",
        "sea_level_var = sea_level_data.loc[:, 'GMSL (GIA, smoothed, filtered)'] \\\n",
        "                - sea_level_data.loc[:, 'GMSL (GIA, smoothed, filtered)'].iloc[0]\n",
        "sea_level_var = pd.concat([sea_level_var, sea_level_data.loc[:, 'Std GMSL (GIA Applied)']], \n",
        "                          axis=1)\n",
        "sea_level_var.columns = ['Value', 'Std Dev']\n",
        "\n",
        "sea_level_var.plot(ax=ax)\n",
        "ax.set_ylabel('Sea Height Change (mm)')\n",
        "ax.set_xlabel('Date')\n",
        "ax.legend(loc='lower right')\n",
        "\nplt.show();"
      ],
      "outputs": [],
      "execution_count": null,
      "metadata": {
        "collapsed": false,
        "outputHidden": false,
        "inputHidden": false
      }
    },
    {
      "cell_type": "code",
      "source": [
        "# - Process Carbon Dioxide Data\n",
        "with open(nasa_co2_file, 'r') as fin:\n",
        "    all_lines = fin.readlines()\n",
        "\n",
        "header_lines = np.array([1 for x in all_lines if x.startswith('#')]).sum()\n",
        "\n",
        "co2_data = pd.read_csv(nasa_co2_file, skiprows=header_lines, header=None, \n",
        "                       delim_whitespace=True)\n",
        "co2_data[co2_data == -99.99] = np.nan\n",
        "\n",
        "co2_data.columns = ['Year', 'Month', 'Year Fraction', 'Average', 'Interpolated', \n",
        "                    'Trend', 'N Days']\n",
        "\n",
        "co2_data.set_index(['Year', 'Month'], inplace=True)\n",
        "new_idx = [datetime(x[0], x[1], 1) for x in co2_data.index]\n",
        "co2_data.index = new_idx\n",
        "co2_data.index.name = 'Date'\n",
        "\n",
        "# - Plot\n",
        "fig, ax = plt.subplots(figsize=(12, 8))\n",
        "\n",
        "co2_data.loc[:, 'Average'].plot(ax=ax)\n",
        "\n",
        "ax.set_ylabel('$CO_{2}$ Level (ppm)')\n",
        "ax.set_xlabel('Date')\n",
        "ax.set_title('Global $CO_{2}$ Levels over Time')\n",
        "\nplt.show();"
      ],
      "outputs": [],
      "execution_count": null,
      "metadata": {
        "collapsed": false,
        "outputHidden": false,
        "inputHidden": false
      }
    }
  ],
  "metadata": {
    "kernel_info": {
      "name": "hurricanes-env"
    },
    "language_info": {
      "name": "python",
      "version": "3.6.6",
      "mimetype": "text/x-python",
      "codemirror_mode": {
        "name": "ipython",
        "version": 3
      },
      "pygments_lexer": "ipython3",
      "nbconvert_exporter": "python",
      "file_extension": ".py"
    },
    "kernelspec": {
      "name": "hurricanes-env",
      "language": "python",
      "display_name": "Hurricane Data Env"
    },
    "nteract": {
      "version": "0.12.3"
    }
  },
  "nbformat": 4,
  "nbformat_minor": 4
}